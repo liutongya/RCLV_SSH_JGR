{
 "cells": [
  {
   "cell_type": "code",
   "execution_count": 1,
   "metadata": {
    "ExecuteTime": {
     "end_time": "2019-05-11T23:41:54.088364Z",
     "start_time": "2019-05-11T23:41:54.077809Z"
    }
   },
   "outputs": [],
   "source": [
    "import copy\n",
    "import xarray as xr\n",
    "import gsw\n",
    "import pandas as pd\n",
    "from xmitgcm import open_mdsdataset\n",
    "import numpy as np\n",
    "from matplotlib import pyplot as plt\n",
    "%matplotlib inline"
   ]
  },
  {
   "cell_type": "code",
   "execution_count": 2,
   "metadata": {
    "ExecuteTime": {
     "end_time": "2019-05-11T23:41:54.726326Z",
     "start_time": "2019-05-11T23:41:54.719516Z"
    }
   },
   "outputs": [],
   "source": [
    "plt.rcParams.update({'font.size': 14\n",
    "    , 'legend.markerscale': 1., 'axes.titlesize': 16, 'axes.labelsize' : 14,\n",
    "      'legend.fontsize' : 10,'legend.handlelength': 2})\n",
    "\n",
    "plt.rc('xtick', labelsize=14) \n",
    "plt.rc('ytick', labelsize=14)"
   ]
  },
  {
   "cell_type": "code",
   "execution_count": 3,
   "metadata": {
    "ExecuteTime": {
     "end_time": "2019-05-11T23:41:56.792679Z",
     "start_time": "2019-05-11T23:41:56.426964Z"
    }
   },
   "outputs": [],
   "source": [
    "rclv_30 = np.zeros(20)\n",
    "rclv_90 = np.zeros(20)\n",
    "\n",
    "tt = np.arange(1, 21, 1)\n",
    "for mon in np.arange(20):\n",
    "    fntmp1 = '/home/tls2913/scripts/RCLV/statistics_2d/rclv_30_0.1/rclv_' + \\\n",
    "        str(mon+1).zfill(3) + '.npy'\n",
    "\n",
    "    fntmp3 = '/home/tls2913/scripts/RCLV/statistics_2d/rclv_90_0.1/rclv_' + \\\n",
    "        str(mon+1).zfill(3) + '.npy'\n",
    "\n",
    "    data1 = np.load(fntmp1)\n",
    "    data3 = np.load(fntmp3)\n",
    "\n",
    "    rclv_30[mon] = data1.shape[0]\n",
    "    rclv_90[mon] = data3.shape[0]"
   ]
  },
  {
   "cell_type": "code",
   "execution_count": 4,
   "metadata": {
    "ExecuteTime": {
     "end_time": "2019-05-12T00:13:42.339604Z",
     "start_time": "2019-05-12T00:13:27.279041Z"
    }
   },
   "outputs": [],
   "source": [
    "df = pd.read_pickle('/home/tls2913/scripts/SSH_eddy/eddy_df.pkl')\n",
    "ssh_30 = np.zeros(20)\n",
    "ssh_60 = np.zeros(20)\n",
    "ssh_90 = np.zeros(20)\n",
    "\n",
    "eddyid_30 = np.zeros(20)\n",
    "for mon in np.arange(20):\n",
    "    time = 10000001 + mon * 90\n",
    "    dftmp1 = df.loc[df.day == time]\n",
    "    dftmp2 = df.loc[df.day == time+29]\n",
    "    idtmp1 = dftmp1.id.values\n",
    "    idtmp2 = dftmp2.id.values\n",
    "    tmp = [item for item in idtmp1 if item in idtmp2]\n",
    "    ssh_30[mon] = len(tmp)\n",
    "    \n",
    "for mon in np.arange(20):\n",
    "    time = 10000001 + mon * 90\n",
    "    dftmp1 = df.loc[df.day == time]\n",
    "    dftmp2 = df.loc[df.day == time+89]\n",
    "    idtmp1 = dftmp1.id.values\n",
    "    idtmp2 = dftmp2.id.values\n",
    "    tmp = [item for item in idtmp1 if item in idtmp2]\n",
    "    ssh_90[mon] = len(tmp)    "
   ]
  },
  {
   "cell_type": "code",
   "execution_count": 5,
   "metadata": {},
   "outputs": [
    {
     "name": "stdout",
     "output_type": "stream",
     "text": [
      "4144.0\n",
      "957.0\n"
     ]
    }
   ],
   "source": [
    "print(np.sum(ssh_30))\n",
    "print(np.sum(ssh_90))"
   ]
  },
  {
   "cell_type": "code",
   "execution_count": 6,
   "metadata": {},
   "outputs": [
    {
     "name": "stdout",
     "output_type": "stream",
     "text": [
      "1973.0\n"
     ]
    }
   ],
   "source": [
    "num_ssh = 0\n",
    "for mon in np.arange(20):\n",
    "    df = pd.read_pickle('/home/tls2913/scripts/RCLV/statistics_2d/rclv_30_0.1/ssh_eddy_' + str(mon+1).zfill(3) + '.pkl')\n",
    "    num = df.shape[0] / 30\n",
    "    \n",
    "    num_ssh = num_ssh + num\n",
    "print(num_ssh)"
   ]
  },
  {
   "cell_type": "code",
   "execution_count": 7,
   "metadata": {},
   "outputs": [
    {
     "name": "stdout",
     "output_type": "stream",
     "text": [
      "5412\n"
     ]
    }
   ],
   "source": [
    "num_rclv = 0\n",
    "for mon in np.arange(20):\n",
    "    fntmp1 = '/home/tls2913/scripts/RCLV/statistics_2d/rclv_30_0.1/rclv_' + \\\n",
    "        str(mon+1).zfill(3) + '.npy'\n",
    "\n",
    "    data1 = np.load(fntmp1)\n",
    "    num = data1.shape[0]\n",
    "    num_rclv = num_rclv + num\n",
    "    \n",
    "print(num_rclv)"
   ]
  },
  {
   "cell_type": "code",
   "execution_count": 8,
   "metadata": {},
   "outputs": [
    {
     "name": "stdout",
     "output_type": "stream",
     "text": [
      "1221\n"
     ]
    }
   ],
   "source": [
    "num_rclv_90 = 0\n",
    "for mon in np.arange(20):\n",
    "    fntmp1 = '/home/tls2913/scripts/RCLV/statistics_2d/rclv_90_0.1/rclv_' + \\\n",
    "        str(mon+1).zfill(3) + '.npy'\n",
    "\n",
    "    data1 = np.load(fntmp1)\n",
    "    num = data1.shape[0]\n",
    "    num_rclv_90 = num_rclv_90 + num\n",
    "    \n",
    "print(num_rclv_90)"
   ]
  },
  {
   "cell_type": "code",
   "execution_count": 9,
   "metadata": {},
   "outputs": [
    {
     "name": "stdout",
     "output_type": "stream",
     "text": [
      "1973\n"
     ]
    }
   ],
   "source": [
    "num_over = 0\n",
    "for mon in np.arange(20):\n",
    "    fntmp1 = '/home/tls2913/scripts/RCLV/statistics_2d/rclv_30_0.1/rclv_new_' + \\\n",
    "        str(mon+1).zfill(3) + '.npy'\n",
    "\n",
    "    data1 = np.load(fntmp1)\n",
    "    num = data1.shape[0]\n",
    "    num_over = num_over + num\n",
    "    \n",
    "print(num_over)"
   ]
  },
  {
   "cell_type": "code",
   "execution_count": 10,
   "metadata": {},
   "outputs": [
    {
     "name": "stdout",
     "output_type": "stream",
     "text": [
      "359\n"
     ]
    }
   ],
   "source": [
    "num_over = 0\n",
    "for mon in np.arange(20):\n",
    "    fntmp1 = '/home/tls2913/scripts/RCLV/statistics_2d/rclv_90_0.1/rclv_90_new_' + \\\n",
    "        str(mon+1).zfill(3) + '.npy'\n",
    "\n",
    "    data1 = np.load(fntmp1)\n",
    "    num = data1.shape[0]\n",
    "    num_over = num_over + num\n",
    "    \n",
    "print(num_over)"
   ]
  },
  {
   "cell_type": "code",
   "execution_count": null,
   "metadata": {},
   "outputs": [],
   "source": []
  },
  {
   "cell_type": "code",
   "execution_count": 11,
   "metadata": {
    "ExecuteTime": {
     "end_time": "2019-05-12T00:29:23.730099Z",
     "start_time": "2019-05-12T00:29:23.204812Z"
    }
   },
   "outputs": [
    {
     "data": {
      "image/png": "[encoded data removed]",
      "text/plain": [
       "<Figure size 864x360 with 2 Axes>"
      ]
     },
     "metadata": {
      "needs_background": "light"
     },
     "output_type": "display_data"
    }
   ],
   "source": [
    "fig = plt.figure(figsize=(12, 5))\n",
    "\n",
    "plt.subplot(121)\n",
    "plt.plot(tt, rclv_30, marker='.', color='k', linewidth=2, label='RCLV (30-day)')\n",
    "plt.plot(tt, rclv_90, marker='.', color='r', linewidth=2, label='RCLV (90-day)')\n",
    "plt.plot(tt, ssh_30, color='k', linestyle=':', linewidth=2, label='SSH eddy (>30 days)')\n",
    "plt.plot(tt, ssh_90, color='r', linestyle=':', linewidth=2, label='SSH eddy (>90 days)')\n",
    "\n",
    "plt.grid()\n",
    "plt.xlabel('90-day interval')\n",
    "plt.ylabel('Number')\n",
    "plt.xticks(np.arange(0, 21, 2));\n",
    "plt.xlim(0, 20)\n",
    "plt.ylim(0, 400)\n",
    "plt.legend(loc=2)\n",
    "\n",
    "plt.subplot(122)\n",
    "\n",
    "ind = np.arange(3)\n",
    "width = 0.3\n",
    "\n",
    "data1 = [1973, 4144-1973, 5412-1973]\n",
    "data2 = [359, 957-359, 1221-359]\n",
    "\n",
    "plt.bar(ind-width/2, data1, width, label='30-day (>30 days)', color='lightcoral')\n",
    "plt.bar(ind+width/2, data2, width, label='90-day (>90 days)', color='dodgerblue')\n",
    "\n",
    "#plt.text(-0.25, 3000, 'G1: Overlapping SSH eddy and RCLV', size=10)\n",
    "#plt.text(-0.25, 2700, 'G2: Non-overlapping SSH eddy', size=10)\n",
    "#plt.text(-0.25, 2400, 'G3: Non-overlapping RCLV', size=10)\n",
    "\n",
    "#plt.text(0, 3000, 'Overlapping SSH eddy and RCLV', size=12)\n",
    "\n",
    "plt.ylim(0, 4000)\n",
    "plt.grid()\n",
    "plt.ylabel('Number')\n",
    "plt.xticks(ticks=np.arange(3), labels=('Overlapping SSH \\n eddy and RCLV', \n",
    "                                       'Non-overlapping \\n SSH eddy', 'Non-overlapping \\n RCLV'), size=12)\n",
    "plt.legend(loc=2)\n",
    "\n",
    "plt.savefig('Figure_04.png', dpi=300, bbox_inches='tight')"
   ]
  },
  {
   "cell_type": "code",
   "execution_count": 12,
   "metadata": {},
   "outputs": [
    {
     "data": {
      "text/plain": [
       "0.4761100386100386"
      ]
     },
     "execution_count": 12,
     "metadata": {},
     "output_type": "execute_result"
    }
   ],
   "source": [
    "1973  / 4144"
   ]
  },
  {
   "cell_type": "code",
   "execution_count": 13,
   "metadata": {},
   "outputs": [
    {
     "data": {
      "text/plain": [
       "0.364560236511456"
      ]
     },
     "execution_count": 13,
     "metadata": {},
     "output_type": "execute_result"
    }
   ],
   "source": [
    "1973  / 5412"
   ]
  },
  {
   "cell_type": "code",
   "execution_count": 14,
   "metadata": {},
   "outputs": [
    {
     "data": {
      "text/plain": [
       "0.37513061650992685"
      ]
     },
     "execution_count": 14,
     "metadata": {},
     "output_type": "execute_result"
    }
   ],
   "source": [
    "359 / 957"
   ]
  },
  {
   "cell_type": "code",
   "execution_count": 15,
   "metadata": {},
   "outputs": [
    {
     "data": {
      "text/plain": [
       "0.294021294021294"
      ]
     },
     "execution_count": 15,
     "metadata": {},
     "output_type": "execute_result"
    }
   ],
   "source": [
    "359 / 1221"
   ]
  },
  {
   "cell_type": "code",
   "execution_count": null,
   "metadata": {},
   "outputs": [],
   "source": []
  }
 ],
 "metadata": {
  "kernelspec": {
   "display_name": "Python [conda env:geo_scipy]",
   "language": "python",
   "name": "conda-env-geo_scipy-py"
  },
  "language_info": {
   "codemirror_mode": {
    "name": "ipython",
    "version": 3
   },
   "file_extension": ".py",
   "mimetype": "text/x-python",
   "name": "python",
   "nbconvert_exporter": "python",
   "pygments_lexer": "ipython3",
   "version": "3.6.7"
  },
  "toc": {
   "base_numbering": 1,
   "nav_menu": {},
   "number_sections": true,
   "sideBar": true,
   "skip_h1_title": false,
   "title_cell": "Table of Contents",
   "title_sidebar": "Contents",
   "toc_cell": false,
   "toc_position": {},
   "toc_section_display": true,
   "toc_window_display": false
  }
 },
 "nbformat": 4,
 "nbformat_minor": 2
}
