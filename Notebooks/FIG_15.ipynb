{
 "cells": [
  {
   "cell_type": "code",
   "execution_count": 1,
   "metadata": {},
   "outputs": [],
   "source": [
    "import numpy as np\n",
    "from matplotlib import pyplot as plt\n",
    "import scipy.io as sio\n",
    "from xmitgcm import open_mdsdataset\n",
    "import pandas as pd\n",
    "import xarray as xr\n",
    "from scipy import interpolate\n",
    "from floater import rclv_zwd\n",
    "from skimage import measure\n",
    "from copy import deepcopy\n",
    "import time\n",
    "import seaborn"
   ]
  },
  {
   "cell_type": "code",
   "execution_count": 131,
   "metadata": {},
   "outputs": [],
   "source": [
    "plt.rcParams.update({'font.size': 14, 'legend.markerscale': 1., 'axes.titlesize': 14, 'axes.labelsize': 14,\n",
    "                     'legend.fontsize': 12, 'legend.handlelength': 2})\n",
    "\n",
    "plt.rc('xtick', labelsize=14)\n",
    "plt.rc('ytick', labelsize=14)"
   ]
  },
  {
   "cell_type": "markdown",
   "metadata": {},
   "source": [
    "## RCLV"
   ]
  },
  {
   "cell_type": "code",
   "execution_count": 69,
   "metadata": {},
   "outputs": [],
   "source": [
    "lk0 = 0\n",
    "lk0_err = 0\n",
    "in0 = 0\n",
    "in0_err = 0\n",
    "day0 = np.NaN"
   ]
  },
  {
   "cell_type": "markdown",
   "metadata": {},
   "source": [
    "## overlapping"
   ]
  },
  {
   "cell_type": "code",
   "execution_count": 54,
   "metadata": {},
   "outputs": [
    {
     "name": "stdout",
     "output_type": "stream",
     "text": [
      "299\n",
      "926\n",
      "945\n",
      "1036\n",
      "1125\n",
      "1330\n"
     ]
    }
   ],
   "source": [
    "flux1 = np.load('/home/tls2913/scripts/RCLV/statistics_2d/rclv_30_0.1/flux1.npy')[1:, :]\n",
    "flux2 = np.load('/home/tls2913/scripts/RCLV/statistics_2d/rclv_30_0.1/flux2.npy')[1:, :]\n",
    "\n",
    "flux1_new = deepcopy(flux1)\n",
    "flux2_new = deepcopy(flux2)\n",
    "\n",
    "for i in np.arange(flux1_new.shape[0]):\n",
    "\n",
    "    if flux1[i, 3] == 0:\n",
    "        flux1_new[i, 3:] = np.nan\n",
    "    else:\n",
    "        flux1_new[i, 3:] = flux1_new[i, 3:] / flux1[i, 3]\n",
    "        flux2_new[i, 3:] = flux2_new[i, 3:] / flux1[i, 3]\n",
    "        \n",
    "for i in np.arange(flux1_new.shape[0]):\n",
    "    if flux2_new[i, -1] > 10:\n",
    "        print(i)\n",
    "        flux2_new[i, :] = np.nan\n",
    "\n",
    "flux1_mean = np.nanmean(flux1[:, 3:], 0) / np.nanmean(flux1[:, 3], 0)\n",
    "flux2_mean = np.nanmean(flux2[:, 3:], 0) / np.nanmean(flux1[:, 3], 0)\n",
    "\n",
    "flux1_mean_err = np.zeros((3, 6))\n",
    "flux2_mean_err = np.zeros((3, 6))\n",
    "tt = np.arange(30) + 1\n",
    "\n",
    "dnum = 0\n",
    "for day in np.arange(5, 31, 5):\n",
    "    flux1_mean_err[0, dnum] = tt[day-1]\n",
    "    flux1_mean_err[1, dnum] = flux1_mean[day-1]\n",
    "    flux1_mean_err[2, dnum] = np.nanstd(flux1_new[:, day+2])\n",
    "    flux2_mean_err[0, dnum] = tt[day-1]\n",
    "    flux2_mean_err[1, dnum] = flux2_mean[day-1]\n",
    "    flux2_mean_err[2, dnum] = np.nanstd(flux2_new[:, day+2])\n",
    "    dnum = dnum + 1"
   ]
  },
  {
   "cell_type": "code",
   "execution_count": 55,
   "metadata": {},
   "outputs": [],
   "source": [
    "lk1 = 0.47309\n",
    "lk1_err = 0.23336\n",
    "in1 = 0.62476\n",
    "in1_err = 0.87902\n",
    "day1 = 20"
   ]
  },
  {
   "cell_type": "markdown",
   "metadata": {},
   "source": [
    "## non-overlapping"
   ]
  },
  {
   "cell_type": "code",
   "execution_count": 44,
   "metadata": {},
   "outputs": [
    {
     "name": "stdout",
     "output_type": "stream",
     "text": [
      "24\n",
      "154\n",
      "431\n",
      "539\n",
      "1081\n",
      "1128\n",
      "1187\n",
      "1333\n",
      "1481\n",
      "1524\n",
      "1592\n",
      "1638\n",
      "1677\n",
      "1760\n",
      "1761\n",
      "2036\n"
     ]
    }
   ],
   "source": [
    "flux1 = np.load('/home/tls2913/scripts/RCLV/statistics_2d/rclv_30_0.1/flux1_unoverlap.npy')[1:, :]\n",
    "flux2 = np.load('/home/tls2913/scripts/RCLV/statistics_2d/rclv_30_0.1/flux2_unoverlap.npy')[1:, :]\n",
    "\n",
    "flux1_new = deepcopy(flux1)\n",
    "flux2_new = deepcopy(flux2)\n",
    "\n",
    "\n",
    "for i in np.arange(flux1_new.shape[0]):\n",
    "\n",
    "    if flux1[i, 3] == 0:\n",
    "        flux1_new[i, 3:] = np.nan\n",
    "    else:\n",
    "        flux1_new[i, 3:] = flux1_new[i, 3:] / flux1[i, 3]\n",
    "        flux2_new[i, 3:] = flux2_new[i, 3:] / flux1[i, 3]\n",
    "\n",
    "# check flux2_new\n",
    "for i in np.arange(flux1_new.shape[0]):\n",
    "    if flux2_new[i, -1] > 10:\n",
    "        print(i)\n",
    "        flux2_new[i, :] = np.nan\n",
    "\n",
    "flux1_mean = np.nanmean(flux1[:, 3:], 0) / np.nanmean(flux1[:, 3], 0)\n",
    "\n",
    "\n",
    "flux2_mean = np.nanmean(flux2[:, 3:], 0) / np.nanmean(flux1[:, 3], 0)\n",
    "\n",
    "\n",
    "tt = np.arange(30) + 1\n",
    "\n",
    "# -----------------------------\n",
    "\n",
    "flux1_mean_err = np.zeros((3, 6))\n",
    "flux2_mean_err = np.zeros((3, 6))\n",
    "\n",
    "dnum = 0\n",
    "for day in np.arange(5, 31, 5):\n",
    "    flux1_mean_err[0, dnum] = tt[day-1]\n",
    "    flux1_mean_err[1, dnum] = flux1_mean[day-1]\n",
    "    flux1_mean_err[2, dnum] = np.nanstd(flux1_new[:, day+2])\n",
    "    flux2_mean_err[0, dnum] = tt[day-1]\n",
    "    flux2_mean_err[1, dnum] = flux2_mean[day-1]\n",
    "    flux2_mean_err[2, dnum] = np.nanstd(flux2_new[:, day+2])\n",
    "\n",
    "    dnum = dnum + 1"
   ]
  },
  {
   "cell_type": "code",
   "execution_count": 53,
   "metadata": {},
   "outputs": [],
   "source": [
    "lk2 = 0.3854\n",
    "lk2_err = 0.2566\n",
    "in2 = 0.8642\n",
    "in2_err = 1.4847\n",
    "day2 = 12"
   ]
  },
  {
   "cell_type": "code",
   "execution_count": null,
   "metadata": {},
   "outputs": [],
   "source": []
  },
  {
   "cell_type": "markdown",
   "metadata": {},
   "source": [
    "## fixed circles and moving circles"
   ]
  },
  {
   "cell_type": "code",
   "execution_count": 56,
   "metadata": {},
   "outputs": [],
   "source": [
    "df_fix = pd.read_pickle('/home/tls2913/scripts/RCLV/statistics_2d/rclv_30_0.1/df_flux_fix.pkl')\n",
    "df_moving = pd.read_pickle('/home/tls2913/scripts/RCLV/statistics_2d/rclv_30_0.1/df_flux_moving.pkl')\n",
    "\n",
    "flux1_fix = np.zeros((df_fix.shape[0], 30))\n",
    "flux1_fix_new = np.zeros((df_fix.shape[0], 30))\n",
    "\n",
    "flux2_fix = np.zeros((df_fix.shape[0], 30))\n",
    "flux2_fix_new = np.zeros((df_fix.shape[0], 30))\n",
    "\n",
    "flux1_moving = np.zeros((df_moving.shape[0], 30))\n",
    "flux1_moving_new = np.zeros((df_moving.shape[0], 30))\n",
    "\n",
    "flux2_moving = np.zeros((df_moving.shape[0], 30))\n",
    "flux2_moving_new = np.zeros((df_moving.shape[0], 30))\n",
    "\n",
    "for i in np.arange(df_fix.shape[0]):\n",
    "    \n",
    "    flux1_fix[i, :] = df_fix.flux1.iloc[i]\n",
    "    flux1_fix_new[i, :] = df_fix.flux1.iloc[i] / df_fix.flux1.iloc[i][0]\n",
    "\n",
    "    flux2_fix[i, :] = df_fix.flux2.iloc[i]\n",
    "    flux2_fix_new[i, :] = df_fix.flux2.iloc[i] / df_fix.flux1.iloc[i][0]\n",
    "    \n",
    "    flux1_moving[i, :] = df_moving.flux1.iloc[i]\n",
    "    flux1_moving_new[i, :] = df_moving.flux1.iloc[i] / df_moving.flux1.iloc[i][0]\n",
    "\n",
    "    flux2_moving[i, :] = df_moving.flux2.iloc[i]\n",
    "    flux2_moving_new[i, :] = df_moving.flux2.iloc[i] / df_moving.flux1.iloc[i][0]\n",
    "    \n",
    "flux1_fix_mean = np.nanmean(flux1_fix, 0) / np.nanmean(flux1_fix[:, 0], 0)\n",
    "flux2_fix_mean = np.nanmean(flux2_fix, 0) / np.nanmean(flux1_fix[:, 0], 0)\n",
    "\n",
    "flux1_moving_mean = np.nanmean(flux1_moving, 0) / np.nanmean(flux1_moving[:, 0], 0)\n",
    "flux2_moving_mean = np.nanmean(flux2_moving, 0) / np.nanmean(flux1_moving[:, 0], 0)\n",
    "\n",
    "flux1_fix_mean_err = np.zeros((3, 6))\n",
    "flux2_fix_mean_err = np.zeros((3, 6))\n",
    "\n",
    "flux1_moving_mean_err = np.zeros((3, 6))\n",
    "flux2_moving_mean_err = np.zeros((3, 6))\n",
    "\n",
    "tt = np.arange(30) + 1\n",
    "\n",
    "dnum = 0\n",
    "for day in np.arange(5, 31, 5):\n",
    "    flux1_fix_mean_err[0, dnum] = tt[day-1]\n",
    "    flux1_fix_mean_err[1, dnum] = flux1_fix_mean[day-1]\n",
    "    flux1_fix_mean_err[2, dnum] = np.std(flux1_fix_new[:, day-1])\n",
    "    \n",
    "    flux2_fix_mean_err[0, dnum] = tt[day-1]\n",
    "    flux2_fix_mean_err[1, dnum] = flux2_fix_mean[day-1]\n",
    "    flux2_fix_mean_err[2, dnum] = np.std(flux2_fix_new[:, day-1])\n",
    "    \n",
    "    flux1_moving_mean_err[0, dnum] = tt[day-1]\n",
    "    flux1_moving_mean_err[1, dnum] = flux1_moving_mean[day-1]\n",
    "    flux1_moving_mean_err[2, dnum] = np.std(flux1_moving_new[:, day-1])\n",
    "\n",
    "    flux2_moving_mean_err[0, dnum] = tt[day-1]\n",
    "    flux2_moving_mean_err[1, dnum] = flux2_moving_mean[day-1]\n",
    "    flux2_moving_mean_err[2, dnum] = np.std(flux2_moving_new[:, day-1])\n",
    "    \n",
    "    dnum = dnum + 1"
   ]
  },
  {
   "cell_type": "code",
   "execution_count": 67,
   "metadata": {},
   "outputs": [],
   "source": [
    "lk3 = 0.15079\n",
    "lk3_err = 0.13507\n",
    "in3 = 0.91626\n",
    "in3_err = 0.2461\n",
    "day3 = 8"
   ]
  },
  {
   "cell_type": "code",
   "execution_count": 68,
   "metadata": {},
   "outputs": [],
   "source": [
    "lk4 = 0.3149\n",
    "lk4_err = 0.15284\n",
    "in4 = 0.7628\n",
    "in4_err = 0.2536\n",
    "day4 = 12"
   ]
  },
  {
   "cell_type": "markdown",
   "metadata": {},
   "source": [
    "## bar plot"
   ]
  },
  {
   "cell_type": "code",
   "execution_count": 162,
   "metadata": {},
   "outputs": [],
   "source": [
    "lk_means, lk_std = (lk0, 1-lk1, 1-lk2, 1-lk3, 1-lk4), (lk0_err, lk1_err, lk2_err, lk3_err, lk4_err)\n",
    "in_means, in_std = (in0, in1, in2, in3, in4), (in0_err, in1_err, in2_err, in3_err, in4_err)\n",
    "cday = (day0, day1, day2, day3, day4)\n",
    "ind = np.arange(5)\n",
    "width = 0.35"
   ]
  },
  {
   "cell_type": "code",
   "execution_count": 166,
   "metadata": {},
   "outputs": [
    {
     "data": {
      "image/png": "[encoded data removed]",
      "text/plain": [
       "<Figure size 576x360 with 2 Axes>"
      ]
     },
     "metadata": {},
     "output_type": "display_data"
    }
   ],
   "source": [
    "fig = plt.figure(figsize=(8, 5))\n",
    "ax1 = plt.subplot(111)\n",
    "\n",
    "rects1 = ax1.bar(ind - width/2, lk_means, width, yerr=lk_std, label='Leakage ratio', color='royalblue')\n",
    "rects2 = ax1.bar(ind + width/2, in_means, width, yerr=in_std, label='Intrusion ratio', color='red')\n",
    "\n",
    "ax1.set_ylim(0, 1.4)\n",
    "ax1.legend(loc=2)\n",
    "ax1.set_xticks(ind)\n",
    "#ax1.set_xticklabels(('G1', 'G2', 'G3', 'G4', 'G5'))\n",
    "#ax1.text(-0.3, 1.3, 'G1: RCLV', size=10, color='purple')\n",
    "#ax1.text(-0.3, 1.2, 'G2: Overlapping SSH eddy', size=10, color='purple')\n",
    "#ax1.text(-0.3, 1.1, 'G3: Non-overlapping SSH eddy', size=10, color='purple')\n",
    "#ax1.text(-0.3, 1.0, 'G4: Fixed circle', size=10, color='purple')\n",
    "#ax1.text(-0.3, 0.9, 'G5: Moving circle', size=10, color='purple')\n",
    "ax1.set_xticklabels(labels=('RCLVs', 'Overlapping \\n SSH eddies', \n",
    "                            'Non-overlapping \\n SSH eddies', 'Fixed circles', 'Moving circles'), size=11)\n",
    "\n",
    "#plt.grid()\n",
    "#ax1.xticks(ticks=ind, labels=('G1', 'G2', 'G3', 'G4', 'G5'), size=12)\n",
    "ax1.set_ylabel('Ratio')\n",
    "ax2 = ax1.twinx()\n",
    "ax2.plot(ind, cday, linestyle='--', marker='.', markersize=20, color='lime', linewidth=3)\n",
    "ax2.set_ylabel('Day', color='green')\n",
    "ax2.tick_params(axis='y', labelcolor='green')\n",
    "ax2.set_ylim(0, 30)\n",
    "ax2.grid()\n",
    "plt.savefig('Figure_15.png', dpi=150, bbox_inches='tight')"
   ]
  },
  {
   "cell_type": "code",
   "execution_count": null,
   "metadata": {},
   "outputs": [],
   "source": []
  },
  {
   "cell_type": "code",
   "execution_count": null,
   "metadata": {},
   "outputs": [],
   "source": []
  }
 ],
 "metadata": {
  "kernelspec": {
   "display_name": "Python [conda env:geo_scipy]",
   "language": "python",
   "name": "conda-env-geo_scipy-py"
  },
  "language_info": {
   "codemirror_mode": {
    "name": "ipython",
    "version": 3
   },
   "file_extension": ".py",
   "mimetype": "text/x-python",
   "name": "python",
   "nbconvert_exporter": "python",
   "pygments_lexer": "ipython3",
   "version": "3.6.7"
  }
 },
 "nbformat": 4,
 "nbformat_minor": 2
}
